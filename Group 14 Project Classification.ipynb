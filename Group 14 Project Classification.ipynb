{
 "cells": [
  {
   "cell_type": "code",
   "execution_count": 7,
   "id": "2fb0bb2a",
   "metadata": {},
   "outputs": [],
   "source": [
    "\n",
    "import pandas as pd\n",
    "import numpy as np\n",
    "from sklearn import preprocessing\n",
    "from sklearn.preprocessing import MinMaxScaler\n",
    "from sklearn.metrics import classification_report\n",
    "\n",
    "df = pd.read_csv('./nyc-flights.csv')\n",
    "df = df.drop(['tailnum','year'], axis=1)\n",
    "arr_delay = [0 if i<=0 else 1 for i in df['arr_delay']]\n",
    "df['arr_delay'] = arr_delay\n",
    "\n",
    "encoder = preprocessing.OrdinalEncoder()\n",
    "\n",
    "df[['carrier']] = encoder.fit_transform(df[['carrier']])\n",
    "df[['origin']] = encoder.fit_transform(df[['origin']])\n",
    "df[['dest']] = encoder.fit_transform(df[['dest']])\n",
    "\n",
    "y = df['arr_delay']\n",
    "X = df.drop(['arr_delay'],1)\n",
    "\n",
    "sc_X = MinMaxScaler()\n",
    "\n",
    "X_scaled = sc_X.fit_transform(X)\n",
    "\n",
    "sc_y = MinMaxScaler()\n",
    "y_scaled_array = sc_y.fit_transform(np.asarray(y).reshape(-1, 1))"
   ]
  },
  {
   "cell_type": "code",
   "execution_count": 8,
   "id": "92db04cb",
   "metadata": {},
   "outputs": [],
   "source": [
    "from sklearn.model_selection import train_test_split\n",
    "from sklearn.neural_network import MLPClassifier\n",
    "\n",
    "y_scaled = np.ravel(y_scaled_array)\n",
    "X_train, X_test, y_train, y_test = train_test_split(X_scaled, y_scaled, random_state=1, test_size=0.3)\n",
    "\n",
    "clf = MLPClassifier(hidden_layer_sizes=(9,9),activation=\"logistic\",solver='sgd', learning_rate='constant', learning_rate_init=0.3, max_iter=600, random_state=1)\n",
    "clf.fit(X_train, y_train)\n",
    "y_pred = clf.predict(X_test)\n"
   ]
  },
  {
   "cell_type": "code",
   "execution_count": 9,
   "id": "9691b858",
   "metadata": {},
   "outputs": [
    {
     "name": "stdout",
     "output_type": "stream",
     "text": [
      "Accuracy:\n",
      "0.8554118725180735\n",
      "MSE:\n",
      "0.14458812748192648\n"
     ]
    }
   ],
   "source": [
    "\n",
    "from sklearn.metrics import accuracy_score\n",
    "from sklearn.metrics import mean_squared_error\n",
    "\n",
    "print(\"Accuracy:\")\n",
    "print(accuracy_score(y_test, y_pred))\n",
    "print(\"MSE:\")\n",
    "print(mean_squared_error(y_test, y_pred))\n"
   ]
  },
  {
   "cell_type": "code",
   "execution_count": 10,
   "id": "9027563d",
   "metadata": {},
   "outputs": [
    {
     "name": "stdout",
     "output_type": "stream",
     "text": [
      "              precision    recall  f1-score   support\n",
      "\n",
      "         0.0       0.87      0.89      0.88      5807\n",
      "         1.0       0.83      0.81      0.82      4014\n",
      "\n",
      "    accuracy                           0.86      9821\n",
      "   macro avg       0.85      0.85      0.85      9821\n",
      "weighted avg       0.85      0.86      0.85      9821\n",
      "\n"
     ]
    }
   ],
   "source": [
    "\n",
    "from sklearn.metrics import classification_report\n",
    "\n",
    "print(classification_report(y_test, y_pred))\n"
   ]
  },
  {
   "cell_type": "code",
   "execution_count": null,
   "id": "cb4f5116",
   "metadata": {},
   "outputs": [],
   "source": []
  },
  {
   "cell_type": "code",
   "execution_count": null,
   "id": "af5da815",
   "metadata": {},
   "outputs": [],
   "source": []
  }
 ],
 "metadata": {
  "kernelspec": {
   "display_name": "Python 3",
   "language": "python",
   "name": "python3"
  },
  "language_info": {
   "codemirror_mode": {
    "name": "ipython",
    "version": 3
   },
   "file_extension": ".py",
   "mimetype": "text/x-python",
   "name": "python",
   "nbconvert_exporter": "python",
   "pygments_lexer": "ipython3",
   "version": "3.8.8"
  }
 },
 "nbformat": 4,
 "nbformat_minor": 5
}
